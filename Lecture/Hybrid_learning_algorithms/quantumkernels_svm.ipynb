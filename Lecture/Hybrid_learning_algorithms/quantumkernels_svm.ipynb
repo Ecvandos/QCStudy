{
    "cells": [
        {
            "cell_type": "markdown",
            "metadata": {},
            "source": [
                "# Integrating quantum kernels into scikit-learn"
            ]
        },
        {
            "cell_type": "markdown",
            "metadata": {},
            "source": [
                "This notebook provides a didactic template to use *scikit-learn*'s **support vector machine** in combination with a **quantum kernel**. The quantum kernel is a dummy function that you can fill with life yourself!"
            ]
        },
        {
            "cell_type": "code",
            "execution_count": null,
            "metadata": {
                "collapsed": true
            },
            "outputs": [],
            "source": [
                "import numpy as np\n",
                "from sklearn.svm import SVC\n",
                "from sklearn.datasets import load_iris\n",
                "from sklearn.model_selection import train_test_split\n",
                "from sklearn.metrics import accuracy_score"
            ]
        },
        {
            "cell_type": "markdown",
            "metadata": {},
            "source": [
                "### Preliminaries"
            ]
        },
        {
            "cell_type": "markdown",
            "metadata": {},
            "source": [
                "The quantum kernel -- as any other real-valued kernel -- is a function that takes two data inputs x1 and x2 and maps them to a real number. Here we always return zero to use the function as a dummy or placeholder."
            ]
        },
        {
            "cell_type": "code",
            "execution_count": null,
            "metadata": {
                "collapsed": true
            },
            "outputs": [],
            "source": [
                "def kernel(x1, x2):\n",
                "    # Compute the quantum kernel with your favourite quantum computing framework here...\n",
                "    return 0"
            ]
        },
        {
            "cell_type": "markdown",
            "metadata": {},
            "source": [
                "Scikit-learn's Support Vector Machine estimator takes kernel Gram matrices. We therefore create a function that, given two lists of data points A and B, computes the Gram matrix whose entries are the pairwise kernels"
            ]
        },
        {
            "cell_type": "code",
            "execution_count": null,
            "metadata": {
                "collapsed": true
            },
            "outputs": [],
            "source": [
                "def gram(A, B):\n",
                "    gram = np.zeros((len(A), len(B)))\n",
                "    for id1, x1 in enumerate(A):\n",
                "        for id2, x2 in enumerate(B):\n",
                "            gram[id1, id2] = kernel(x1, x2)\n",
                "    return gram"
            ]
        },
        {
            "cell_type": "markdown",
            "metadata": {},
            "source": [
                "Let's look at an example where we feed one list of data points into both slots. Of course, our dummy kernel returns only zeros."
            ]
        },
        {
            "cell_type": "code",
            "execution_count": null,
            "metadata": {},
            "outputs": [],
            "source": [
                "data = [[1, 2], [3, 4]]\n",
                "\n",
                "gram(data, data)"
            ]
        },
        {
            "cell_type": "markdown",
            "metadata": {},
            "source": [
                "Another example constructs rectangular gram matrices from two data lists of different length. This will be useful for new predictions."
            ]
        },
        {
            "cell_type": "code",
            "execution_count": null,
            "metadata": {},
            "outputs": [],
            "source": [
                "data1 = [[1, 2], [3, 4]]\n",
                "data2 = [[2, 4]]\n",
                "\n",
                "gram(data1, data2)"
            ]
        },
        {
            "cell_type": "markdown",
            "metadata": {},
            "source": [
                "### Data preparation"
            ]
        },
        {
            "cell_type": "markdown",
            "metadata": {},
            "source": [
                "Let's load the good old Iris dataset and split it into training and test set"
            ]
        },
        {
            "cell_type": "code",
            "execution_count": null,
            "metadata": {
                "collapsed": true
            },
            "outputs": [],
            "source": [
                "iris = load_iris()\n",
                "X = iris.data\n",
                "y = iris.target\n",
                "X_train, X_test, y_train, y_test = train_test_split(X, y)"
            ]
        },
        {
            "cell_type": "markdown",
            "metadata": {},
            "source": [
                "If you have matplotlib installed, you can plot the first of four dimensions."
            ]
        },
        {
            "cell_type": "code",
            "execution_count": null,
            "metadata": {},
            "outputs": [],
            "source": [
                "%matplotlib inline\n",
                "import matplotlib.pyplot as plt\n",
                "plt.figure(2, figsize=(8, 6))\n",
                "plt.scatter(X[:, 0], X[:, 1], c=y)\n",
                "plt.xlabel('Sepal length')\n",
                "plt.ylabel('Sepal width')\n",
                "plt.show()"
            ]
        },
        {
            "cell_type": "markdown",
            "metadata": {},
            "source": [
                "To prepare the data for the SVM with custom kernel, we have to compute two different Gram matrices for the iris datasets. The \"training Gram matrix\" computes kernels on pairwise entries of the training set, while the \"test Gram matrix\" combines training and test set."
            ]
        },
        {
            "cell_type": "code",
            "execution_count": null,
            "metadata": {
                "collapsed": true
            },
            "outputs": [],
            "source": [
                "gram_train = gram(X_train, X_train)\n",
                "gram_test = gram(X_test, X_train)"
            ]
        },
        {
            "cell_type": "markdown",
            "metadata": {},
            "source": [
                "### Training"
            ]
        },
        {
            "cell_type": "markdown",
            "metadata": {},
            "source": [
                "Now we can train a Support Vector Machine and, for example, compute the accuracy on the test set. We have to select the 'precomputed' option to feed custom kernels. \n",
                "\n",
                "The fitting function takes the \"training gram matrix\". To make predictions on the test set using the trained model, we have to feed it the \"test Gram matrix\"."
            ]
        },
        {
            "cell_type": "code",
            "execution_count": null,
            "metadata": {},
            "outputs": [],
            "source": [
                "svm = SVC(kernel='precomputed')\n",
                "svm.fit(gram_train, y_train)\n",
                "\n",
                "predictions_test = svm.predict(gram_test)\n",
                "accuracy_score(predictions_test, y_test)"
            ]
        },
        {
            "cell_type": "markdown",
            "metadata": {},
            "source": [
                "Of course, the accuracy is just an artefact of the dummy kernel. Use your favourite quantum computing framework to insert your own kernel!"
            ]
        }
    ],
    "metadata": {
        "kernelspec": {
            "display_name": "Python 3 [3.6]",
            "language": "python",
            "name": "python3"
        },
        "language_info": {
            "codemirror_mode": {
                "name": "ipython",
                "version": 3
            },
            "file_extension": ".py",
            "mimetype": "text\/x-python",
            "name": "python",
            "nbconvert_exporter": "python",
            "pygments_lexer": "ipython3",
            "version": "3.6.4"
        }
    },
    "nbformat": 4,
    "nbformat_minor": 2
}